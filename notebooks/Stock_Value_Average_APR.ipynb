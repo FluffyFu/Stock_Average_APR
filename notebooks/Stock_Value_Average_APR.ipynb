{
 "cells": [
  {
   "cell_type": "code",
   "execution_count": 1,
   "metadata": {},
   "outputs": [],
   "source": [
    "import pandas as pd\n",
    "import numpy as np\n",
    "from datetime import datetime\n",
    "from functools import partial\n",
    "import holidays"
   ]
  },
  {
   "cell_type": "markdown",
   "metadata": {},
   "source": [
    "## Define some functions"
   ]
  },
  {
   "cell_type": "code",
   "execution_count": 2,
   "metadata": {},
   "outputs": [],
   "source": [
    "from datetime import timedelta\n",
    "from datetime import datetime\n",
    "us_holidays = holidays.UnitedStates()\n",
    "\n",
    "def purchase_date(start, end, freq_per_year, data):\n",
    "    \"\"\"\n",
    "    Given the start, end and number of trading times in a year. Return a list of trading days.\n",
    "    \n",
    "    start (datetime)\n",
    "    \n",
    "    end (datetime)\n",
    "    \n",
    "    freq_per_year (int)\n",
    "    \n",
    "    data (pd.Dataframe): history price information\n",
    "    \n",
    "    Returns:\n",
    "        a list of datetime.\n",
    "    \"\"\"\n",
    "    increment = timedelta(days = int(365 / freq_per_year))\n",
    "    results = []\n",
    "    current = start\n",
    "    \n",
    "    # collect all the available days in data and convert them to python datetime object\n",
    "    date_in_record = {data.iloc[i]['Date'].to_pydatetime() for i in range(data.shape[0]) }\n",
    "    \n",
    "    while current < end:\n",
    "        # skip days that are not in data\n",
    "        while not(current in date_in_record):\n",
    "            current = current + timedelta(days=1)\n",
    "            \n",
    "        results.append(current)\n",
    "        \n",
    "        current = current + increment\n",
    "        \n",
    "    return results\n",
    "\n",
    "\n",
    "def calculate_trading_amount(data, trade_days, money_per_trade, price_type):\n",
    "    \"\"\"\n",
    "    Calculate the number of holdings purchased in the given trade_days.\n",
    "    \n",
    "    data (pd.dataframe): market price history.\n",
    "    \n",
    "    trade_days (list of datetime): a list of dates to do trading.\n",
    "    \n",
    "    money_per_trade (float): money spent in each trade.\n",
    "    \n",
    "    price_type (str): trade base on what type of price. 'Open', 'High', 'Low', 'Close'\n",
    "    \n",
    "    Returns:\n",
    "        a list of tuples with trade_date and the correponding trade amount.\n",
    "    \"\"\"\n",
    "    results = []\n",
    "    \n",
    "    for date in trade_days:\n",
    "        trade_price = data[data['Date'] == date][price_type].values[0]\n",
    "        num_holdings = money_per_trade / trade_price\n",
    "        results.append((date, trade_price, num_holdings))\n",
    "        \n",
    "    return results\n",
    "        \n",
    "    \n",
    "def add_dividend(trade_info, dividend_data, data, price_type, last_date):\n",
    "    \"\"\"\n",
    "    Add reinvested dividend to the holding\n",
    "    \n",
    "    trade_info (tuple): trade_date, trade_price, trade_amount\n",
    "    \n",
    "    dividend (pd.DataFrame): Date, Payout Amount\n",
    "    \n",
    "    data (pd.DataFrame): stock price history\n",
    "    \n",
    "    price_type (str): what kind of price to reinvest. 'Open', 'High', 'Low', 'Close'.\n",
    "    \n",
    "    last_date (datetime): the last day to consider dividend.\n",
    "    \n",
    "    Returns:\n",
    "        accumulated holding, accumulated dividend\n",
    "    \"\"\"\n",
    "    trade_dates = [x[0] for x in trade_info]\n",
    "    min_trade_date = min(trade_dates)\n",
    "    \n",
    "    # key: date, value: (trade_price, trade_amount)\n",
    "    dict_trade_info = {date: (trade_price, trade_amount) for date, trade_price, trade_amount in trade_info}\n",
    "    \n",
    "    dividend_dates = [x for x in list(dividend_data['Date']) if (x <= last_date) and (x >= min_trade_date)]\n",
    "    \n",
    "    # key: dividend_date, value: (payout, price)\n",
    "    dict_dividend = {}\n",
    "    \n",
    "    for date in dividend_dates:\n",
    "        price = data[data['Date']==date][price_type].values[0]\n",
    "        payout = dividend_data[dividend_data['Date']==date]['Payout Amount'].values[0]\n",
    "        dict_dividend[date] = (payout, price)\n",
    "    \n",
    "    # dividend dates and trade dates\n",
    "    whole_dates = sorted(trade_dates + dividend_dates)\n",
    "    \n",
    "    acc_holdings = 0\n",
    "    acc_reinvested = 0\n",
    "    \n",
    "    for date in whole_dates:\n",
    "        if date in trade_dates:\n",
    "            acc_holdings += dict_trade_info[date][1]\n",
    "        elif date in dividend_dates:\n",
    "            payout, price = dict_dividend[date]\n",
    "            reinvested_holdings = acc_holdings * payout / price\n",
    "            acc_reinvested += reinvested_holdings\n",
    "            acc_holdings += reinvested_holdings\n",
    "    \n",
    "    return acc_holdings, acc_reinvested   "
   ]
  },
  {
   "cell_type": "markdown",
   "metadata": {},
   "source": [
    "## Load ETF Price Data"
   ]
  },
  {
   "cell_type": "code",
   "execution_count": 3,
   "metadata": {},
   "outputs": [
    {
     "name": "stdout",
     "output_type": "stream",
     "text": [
      "min_time:  2001-06-15 00:00:00\n",
      "max_time:  2020-05-08 00:00:00\n"
     ]
    }
   ],
   "source": [
    "# Load data and add weekday\n",
    "data_path = '../data/vti.csv'\n",
    "\n",
    "data = pd.read_csv(data_path)\n",
    "data.head()\n",
    "\n",
    "data['Date'] = pd.to_datetime(data['Date'], format='%Y-%m-%d')\n",
    "data['Weekday'] = data['Date'].dt.dayofweek # 0 is Mon, 6 is Sun.\n",
    "data['Year'] = data['Date'].dt.year\n",
    "data['Month'] = data['Date'].dt.month\n",
    "data['Day'] = data['Date'].dt.day\n",
    "\n",
    "\n",
    "min_time = min(data['Date'])\n",
    "max_time = max(data['Date'])\n",
    "\n",
    "print('min_time: ', min_time)\n",
    "print('max_time: ', max_time)"
   ]
  },
  {
   "cell_type": "markdown",
   "metadata": {},
   "source": [
    "## Load Dividend Payment Data"
   ]
  },
  {
   "cell_type": "code",
   "execution_count": 4,
   "metadata": {},
   "outputs": [
    {
     "data": {
      "text/html": [
       "<div>\n",
       "<style scoped>\n",
       "    .dataframe tbody tr th:only-of-type {\n",
       "        vertical-align: middle;\n",
       "    }\n",
       "\n",
       "    .dataframe tbody tr th {\n",
       "        vertical-align: top;\n",
       "    }\n",
       "\n",
       "    .dataframe thead th {\n",
       "        text-align: right;\n",
       "    }\n",
       "</style>\n",
       "<table border=\"1\" class=\"dataframe\">\n",
       "  <thead>\n",
       "    <tr style=\"text-align: right;\">\n",
       "      <th></th>\n",
       "      <th>Type</th>\n",
       "      <th>Payout Amount</th>\n",
       "      <th>Date</th>\n",
       "      <th>Weekday</th>\n",
       "    </tr>\n",
       "  </thead>\n",
       "  <tbody>\n",
       "    <tr>\n",
       "      <th>0</th>\n",
       "      <td>Dividend</td>\n",
       "      <td>$0.61</td>\n",
       "      <td>2020-03-26</td>\n",
       "      <td>3</td>\n",
       "    </tr>\n",
       "    <tr>\n",
       "      <th>1</th>\n",
       "      <td>Dividend</td>\n",
       "      <td>$0.89</td>\n",
       "      <td>2019-12-24</td>\n",
       "      <td>1</td>\n",
       "    </tr>\n",
       "    <tr>\n",
       "      <th>2</th>\n",
       "      <td>Dividend</td>\n",
       "      <td>$0.70</td>\n",
       "      <td>2019-09-16</td>\n",
       "      <td>0</td>\n",
       "    </tr>\n",
       "    <tr>\n",
       "      <th>3</th>\n",
       "      <td>Dividend</td>\n",
       "      <td>$0.55</td>\n",
       "      <td>2019-06-17</td>\n",
       "      <td>0</td>\n",
       "    </tr>\n",
       "    <tr>\n",
       "      <th>4</th>\n",
       "      <td>Dividend</td>\n",
       "      <td>$0.77</td>\n",
       "      <td>2019-03-25</td>\n",
       "      <td>0</td>\n",
       "    </tr>\n",
       "  </tbody>\n",
       "</table>\n",
       "</div>"
      ],
      "text/plain": [
       "       Type Payout Amount       Date  Weekday\n",
       "0  Dividend         $0.61 2020-03-26        3\n",
       "1  Dividend         $0.89 2019-12-24        1\n",
       "2  Dividend         $0.70 2019-09-16        0\n",
       "3  Dividend         $0.55 2019-06-17        0\n",
       "4  Dividend         $0.77 2019-03-25        0"
      ]
     },
     "execution_count": 4,
     "metadata": {},
     "output_type": "execute_result"
    }
   ],
   "source": [
    "# load dividend\n",
    "dividend_path = '../data/vti_dividend.csv'\n",
    "dividend = pd.read_csv(dividend_path)\n",
    "\n",
    "\n",
    "dividend['Date'] = pd.to_datetime(dividend['Ex-Dividend Date'], format='%Y-%m-%d')\n",
    "dividend['Weekday'] = dividend['Date'].dt.dayofweek\n",
    "dividend = dividend.drop(['Ex-Dividend Date'], axis=1)\n",
    "dividend = dividend.drop(['Change'], axis=1)\n",
    "dividend.head()"
   ]
  },
  {
   "cell_type": "code",
   "execution_count": 5,
   "metadata": {},
   "outputs": [],
   "source": [
    "# check that no dividend is issued on weekend\n",
    "assert len(dividend[(dividend.Weekday==5) & (dividend.Weekday==6)]) == 0\n",
    "# drop weekday\n",
    "dividend = dividend.drop(['Weekday'], axis=1)\n",
    "# drop the split event\n",
    "dividend = dividend[dividend['Type'] == 'Dividend']\n",
    "\n",
    "# change payout amount from string to float\n",
    "dividend['Payout Amount'] = dividend['Payout Amount'].str.replace('$', '').astype(float)"
   ]
  },
  {
   "cell_type": "code",
   "execution_count": 6,
   "metadata": {},
   "outputs": [
    {
     "data": {
      "text/html": [
       "<div>\n",
       "<style scoped>\n",
       "    .dataframe tbody tr th:only-of-type {\n",
       "        vertical-align: middle;\n",
       "    }\n",
       "\n",
       "    .dataframe tbody tr th {\n",
       "        vertical-align: top;\n",
       "    }\n",
       "\n",
       "    .dataframe thead th {\n",
       "        text-align: right;\n",
       "    }\n",
       "</style>\n",
       "<table border=\"1\" class=\"dataframe\">\n",
       "  <thead>\n",
       "    <tr style=\"text-align: right;\">\n",
       "      <th></th>\n",
       "      <th>Type</th>\n",
       "      <th>Payout Amount</th>\n",
       "      <th>Date</th>\n",
       "    </tr>\n",
       "  </thead>\n",
       "  <tbody>\n",
       "    <tr>\n",
       "      <th>0</th>\n",
       "      <td>Dividend</td>\n",
       "      <td>0.61</td>\n",
       "      <td>2020-03-26</td>\n",
       "    </tr>\n",
       "    <tr>\n",
       "      <th>1</th>\n",
       "      <td>Dividend</td>\n",
       "      <td>0.89</td>\n",
       "      <td>2019-12-24</td>\n",
       "    </tr>\n",
       "    <tr>\n",
       "      <th>2</th>\n",
       "      <td>Dividend</td>\n",
       "      <td>0.70</td>\n",
       "      <td>2019-09-16</td>\n",
       "    </tr>\n",
       "    <tr>\n",
       "      <th>3</th>\n",
       "      <td>Dividend</td>\n",
       "      <td>0.55</td>\n",
       "      <td>2019-06-17</td>\n",
       "    </tr>\n",
       "    <tr>\n",
       "      <th>4</th>\n",
       "      <td>Dividend</td>\n",
       "      <td>0.77</td>\n",
       "      <td>2019-03-25</td>\n",
       "    </tr>\n",
       "  </tbody>\n",
       "</table>\n",
       "</div>"
      ],
      "text/plain": [
       "       Type  Payout Amount       Date\n",
       "0  Dividend           0.61 2020-03-26\n",
       "1  Dividend           0.89 2019-12-24\n",
       "2  Dividend           0.70 2019-09-16\n",
       "3  Dividend           0.55 2019-06-17\n",
       "4  Dividend           0.77 2019-03-25"
      ]
     },
     "execution_count": 6,
     "metadata": {},
     "output_type": "execute_result"
    }
   ],
   "source": [
    "dividend.head()"
   ]
  },
  {
   "cell_type": "markdown",
   "metadata": {},
   "source": [
    "## Calculate Current Asset Value Taking into Account Value Change and Dividend Reinvestment"
   ]
  },
  {
   "cell_type": "code",
   "execution_count": 7,
   "metadata": {},
   "outputs": [],
   "source": [
    "start = datetime(2010, 1, 1)\n",
    "end = datetime(2010, 6, 30)\n",
    "\n",
    "last_date = datetime(2020, 5, 1)\n",
    "\n",
    "freq_per_year = 1\n",
    "budget_each_year = 10000\n",
    "price_type = 'Open'\n",
    "money_per_trade = budget_each_year / freq_per_year\n",
    "\n",
    "trade_days = purchase_date(start, end, freq_per_year, data)\n",
    "trade_info = calculate_trading_amount(data, trade_days, money_per_trade, price_type)\n",
    "acc_holdings = add_dividend(trade_info, dividend, data, 'Open', last_date)"
   ]
  },
  {
   "cell_type": "markdown",
   "metadata": {},
   "source": [
    "## Calculate Average APR"
   ]
  },
  {
   "cell_type": "code",
   "execution_count": 8,
   "metadata": {},
   "outputs": [
    {
     "name": "stdout",
     "output_type": "stream",
     "text": [
      "Premium:  10000.0\n",
      "value after tax:  27609.874399009637\n",
      "avg apr before tax:  1.1146787071593678\n",
      "avg apr after tax:  1.1032363702030437\n"
     ]
    }
   ],
   "source": [
    "tax_rate = 0.15 # long-term capital gain\n",
    "\n",
    "last_date_price = data[data['Date'] == last_date]['Open'].values[0]\n",
    "total_value = acc_holdings[0] * last_date_price\n",
    "premium = len(trade_days) * money_per_trade\n",
    "print('Premium: ', premium)\n",
    "\n",
    "# value after tax\n",
    "gain = total_value - premium\n",
    "tax = gain * tax_rate\n",
    "final = total_value - tax\n",
    "print('value after tax: ', final)\n",
    "\n",
    "# time duration\n",
    "period = last_date - start\n",
    "n_years = period.days / 365\n",
    "apr = np.power(total_value / premium, 1/ n_years)\n",
    "apr_tax = np.power(final / premium, 1 / n_years)\n",
    "\n",
    "print('avg apr before tax: ', apr)\n",
    "print('avg apr after tax: ', apr_tax)"
   ]
  }
 ],
 "metadata": {
  "kernelspec": {
   "display_name": "Python 3",
   "language": "python",
   "name": "python3"
  },
  "language_info": {
   "codemirror_mode": {
    "name": "ipython",
    "version": 3
   },
   "file_extension": ".py",
   "mimetype": "text/x-python",
   "name": "python",
   "nbconvert_exporter": "python",
   "pygments_lexer": "ipython3",
   "version": "3.7.3"
  }
 },
 "nbformat": 4,
 "nbformat_minor": 2
}
